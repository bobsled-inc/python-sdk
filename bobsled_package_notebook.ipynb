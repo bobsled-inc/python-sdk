{
 "cells": [
  {
   "cell_type": "code",
   "execution_count": 2,
   "id": "02541433",
   "metadata": {},
   "outputs": [],
   "source": [
    "from bobsled_sdk import BobsledClient\n",
    "\n",
    "base_url = \"https://staging-remix-deploy-remix-app-64ohelifva-ez.a.run.app/\"\n",
    "\n",
    "credentials = { \"email\": \"danny@bobsled.co\",\n",
    "        \"password\": \"bobsledding_it\"\n",
    "}"
   ]
  },
  {
   "cell_type": "code",
   "execution_count": 3,
   "id": "f62f1fa7",
   "metadata": {},
   "outputs": [],
   "source": [
    "# Instantiate Client\n",
    "b = BobsledClient(credentials, base_url)"
   ]
  },
  {
   "cell_type": "code",
   "execution_count": 4,
   "id": "11e3414e",
   "metadata": {},
   "outputs": [],
   "source": [
    "new_share = b.create_share()"
   ]
  },
  {
   "cell_type": "code",
   "execution_count": 7,
   "id": "a9fed002",
   "metadata": {},
   "outputs": [],
   "source": [
    "deliveries = new_share.get_deliveries()"
   ]
  },
  {
   "cell_type": "code",
   "execution_count": 8,
   "id": "d7c82b56",
   "metadata": {},
   "outputs": [
    {
     "name": "stdout",
     "output_type": "stream",
     "text": [
      "[{'id': 'zm1yanK6WPpPcMxV7qhN', 'name': '2022-08-04_0002', 'deliveryOrderNumber': 2, 'totalSize': 123456, 'createdAt': {'seconds': 1659647957, 'nanoseconds': 176000000}, 'sharedFiles': ['s3://rhizo-your-bucket-name/foo/bar/foo/bar/foo/bar.txt'], 'state': 'published', 'sourceLocation': {'id': '6dc0de60-c0b6-11ec-825a-3fd3e90b3975', 'name': 'EU S3 Bucket', 'cloud': 'AWS', 'type': 'AWS_S3', 'region': 'eu-west-1', 'url': 's3://rhizo-your-bucket-name', 'path': '/', 'delimiter': '/'}}, {'id': 'SvY3zrO9i31B6TpOj9CV', 'name': '2022-08-04_0001', 'deliveryOrderNumber': 1, 'totalSize': 13579, 'createdAt': {'seconds': 1659647948, 'nanoseconds': 674000000}, 'sharedFiles': ['s3://rhizo-your-bucket-name/folder/folder-2/folder-3/folder-4/again-file.csv', 's3://rhizo-your-bucket-name/folder/other-file.csv'], 'state': 'published', 'sourceLocation': {'id': '6dc0de60-c0b6-11ec-825a-3fd3e90b3975', 'name': 'EU S3 Bucket', 'cloud': 'AWS', 'type': 'AWS_S3', 'region': 'eu-west-1', 'url': 's3://rhizo-your-bucket-name', 'path': '/', 'delimiter': '/'}}]\n"
     ]
    }
   ],
   "source": [
    "print(deliveries)"
   ]
  },
  {
   "cell_type": "code",
   "execution_count": 9,
   "id": "5f9ad22a",
   "metadata": {},
   "outputs": [
    {
     "name": "stdout",
     "output_type": "stream",
     "text": [
      "{'seconds': 1659647957, 'nanoseconds': 176000000}\n",
      "{'seconds': 1659647948, 'nanoseconds': 674000000}\n"
     ]
    }
   ],
   "source": [
    "for delivery in deliveries:\n",
    "    print(delivery['createdAt'])"
   ]
  },
  {
   "cell_type": "code",
   "execution_count": null,
   "id": "c9a2f049",
   "metadata": {},
   "outputs": [],
   "source": []
  }
 ],
 "metadata": {
  "kernelspec": {
   "display_name": "Python 3 (ipykernel)",
   "language": "python",
   "name": "python3"
  },
  "language_info": {
   "codemirror_mode": {
    "name": "ipython",
    "version": 3
   },
   "file_extension": ".py",
   "mimetype": "text/x-python",
   "name": "python",
   "nbconvert_exporter": "python",
   "pygments_lexer": "ipython3",
   "version": "3.10.4"
  }
 },
 "nbformat": 4,
 "nbformat_minor": 5
}
