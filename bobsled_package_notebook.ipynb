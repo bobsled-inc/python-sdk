{
 "cells": [
  {
   "cell_type": "code",
   "execution_count": 1,
   "id": "02541433",
   "metadata": {},
   "outputs": [],
   "source": [
    "from bobsled_sdk import BobsledClient\n",
    "\n",
    "base_url = \"http://127.0.0.1:3000\"\n",
    "\n",
    "credentials = { \"email\": \"danny@bobsled.co\",\n",
    "        \"password\": \"bobsledding_it\"\n",
    "}"
   ]
  },
  {
   "cell_type": "code",
   "execution_count": 2,
   "id": "f62f1fa7",
   "metadata": {},
   "outputs": [],
   "source": [
    "# Instantiate Client\n",
    "b = BobsledClient(credentials, base_url)"
   ]
  },
  {
   "cell_type": "code",
   "execution_count": 4,
   "id": "11e3414e",
   "metadata": {},
   "outputs": [],
   "source": [
    "new_share = b.create_share()"
   ]
  },
  {
   "cell_type": "code",
   "execution_count": 7,
   "id": "a9fed002",
   "metadata": {},
   "outputs": [],
   "source": [
    "new_share.archive()"
   ]
  },
  {
   "cell_type": "code",
   "execution_count": 8,
   "id": "d7c82b56",
   "metadata": {},
   "outputs": [],
   "source": [
    "new_share.restore()"
   ]
  },
  {
   "cell_type": "code",
   "execution_count": null,
   "id": "5f9ad22a",
   "metadata": {},
   "outputs": [],
   "source": []
  }
 ],
 "metadata": {
  "kernelspec": {
   "display_name": "Python 3 (ipykernel)",
   "language": "python",
   "name": "python3"
  },
  "language_info": {
   "codemirror_mode": {
    "name": "ipython",
    "version": 3
   },
   "file_extension": ".py",
   "mimetype": "text/x-python",
   "name": "python",
   "nbconvert_exporter": "python",
   "pygments_lexer": "ipython3",
   "version": "3.10.4"
  }
 },
 "nbformat": 4,
 "nbformat_minor": 5
}
